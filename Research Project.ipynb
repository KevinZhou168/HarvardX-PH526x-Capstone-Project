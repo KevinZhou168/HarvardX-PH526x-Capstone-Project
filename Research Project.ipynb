{
 "cells": [
  {
   "cell_type": "markdown",
   "metadata": {},
   "source": [
    "***Key: 1 = standing, 2 = walking, 3 = stairs down, 4 = stairs up***"
   ]
  },
  {
   "cell_type": "markdown",
   "metadata": {},
   "source": [
    "***Load and prepare data:***"
   ]
  },
  {
   "cell_type": "code",
   "execution_count": 471,
   "metadata": {},
   "outputs": [],
   "source": [
    "import pandas as pd\n",
    "import numpy as np\n",
    "import os\n",
    "\n",
    "from sklearn.model_selection import cross_val_score\n",
    "from sklearn.linear_model import LinearRegression\n",
    "from sklearn.linear_model import LogisticRegression\n",
    "from sklearn.ensemble import RandomForestRegressor\n",
    "from sklearn.ensemble import RandomForestClassifier\n",
    "\n",
    "from sklearn.metrics import accuracy_score\n",
    "from sklearn.metrics import r2_score\n",
    "\n",
    "import matplotlib.pyplot as plt\n",
    "\n",
    "import scipy.stats as ss\n",
    "\n",
    "import warnings\n",
    "warnings.filterwarnings(\"ignore\")\n",
    "\n",
    "def clean(file):\n",
    "    file = file.lower()\n",
    "    skips = [\".\", \",\", \";\", \":\", \"'\", '\"', \"\\n\", \"!\", \"?\", \"(\", \")\"]\n",
    "    for ch in skips:\n",
    "        file = file.replace(ch, \"\")\n",
    "    return file\n",
    "\n",
    "def count_words_fast(text):\n",
    "    text = text.lower()\n",
    "    skips = [\".\", \",\", \";\", \":\", \"'\", '\"', \"\\n\", \"!\", \"?\", \"(\", \")\"]\n",
    "    for ch in skips:\n",
    "        text = text.replace(ch, \"\")\n",
    "    word_counts = Counter(text.split(\" \"))\n",
    "    return word_counts\n",
    "\n",
    "def word_stats(word_counts):\n",
    "    num_unique = len(word_counts)\n",
    "    counts = word_counts.values()\n",
    "    return (num_unique, counts)\n",
    "\n",
    "def majority_vote(votes):\n",
    "    vote_counts = {}\n",
    "    for vote in votes:\n",
    "        if vote in vote_counts:\n",
    "            vote_counts[vote] += 1\n",
    "        else:\n",
    "            vote_counts[vote] = 1\n",
    "    winners = []\n",
    "    max_count = max(vote_counts.values())\n",
    "    for vote, count in vote_counts.items():\n",
    "        if count == max_count:\n",
    "            winners.append(vote)\n",
    "    return random.choice(winners)\n",
    "\n",
    "def majority_vote_short(votes):\n",
    "    vote, count = ss.mstats.mode(votes)\n",
    "    return mode\n"
   ]
  },
  {
   "cell_type": "code",
   "execution_count": 495,
   "metadata": {
    "scrolled": true
   },
   "outputs": [
    {
     "data": {
      "text/html": [
       "<div>\n",
       "<style scoped>\n",
       "    .dataframe tbody tr th:only-of-type {\n",
       "        vertical-align: middle;\n",
       "    }\n",
       "\n",
       "    .dataframe tbody tr th {\n",
       "        vertical-align: top;\n",
       "    }\n",
       "\n",
       "    .dataframe thead th {\n",
       "        text-align: right;\n",
       "    }\n",
       "</style>\n",
       "<table border=\"1\" class=\"dataframe\">\n",
       "  <thead>\n",
       "    <tr style=\"text-align: right;\">\n",
       "      <th></th>\n",
       "      <th>timestamp</th>\n",
       "      <th>x</th>\n",
       "      <th>y</th>\n",
       "      <th>z</th>\n",
       "    </tr>\n",
       "  </thead>\n",
       "  <tbody>\n",
       "    <tr>\n",
       "      <td>0</td>\n",
       "      <td>1565109930787</td>\n",
       "      <td>-0.006485</td>\n",
       "      <td>-0.934860</td>\n",
       "      <td>-0.069046</td>\n",
       "    </tr>\n",
       "    <tr>\n",
       "      <td>1</td>\n",
       "      <td>1565109930887</td>\n",
       "      <td>-0.066467</td>\n",
       "      <td>-1.015442</td>\n",
       "      <td>0.089554</td>\n",
       "    </tr>\n",
       "    <tr>\n",
       "      <td>2</td>\n",
       "      <td>1565109930987</td>\n",
       "      <td>-0.043488</td>\n",
       "      <td>-1.021255</td>\n",
       "      <td>0.178467</td>\n",
       "    </tr>\n",
       "    <tr>\n",
       "      <td>3</td>\n",
       "      <td>1565109931087</td>\n",
       "      <td>-0.053802</td>\n",
       "      <td>-0.987701</td>\n",
       "      <td>0.068985</td>\n",
       "    </tr>\n",
       "    <tr>\n",
       "      <td>4</td>\n",
       "      <td>1565109931188</td>\n",
       "      <td>-0.054031</td>\n",
       "      <td>-1.003616</td>\n",
       "      <td>0.126450</td>\n",
       "    </tr>\n",
       "  </tbody>\n",
       "</table>\n",
       "</div>"
      ],
      "text/plain": [
       "       timestamp         x         y         z\n",
       "0  1565109930787 -0.006485 -0.934860 -0.069046\n",
       "1  1565109930887 -0.066467 -1.015442  0.089554\n",
       "2  1565109930987 -0.043488 -1.021255  0.178467\n",
       "3  1565109931087 -0.053802 -0.987701  0.068985\n",
       "4  1565109931188 -0.054031 -1.003616  0.126450"
      ]
     },
     "execution_count": 495,
     "metadata": {},
     "output_type": "execute_result"
    }
   ],
   "source": [
    "# Load and read training csv file\n",
    "file = pd.read_csv(\"train_time_series.csv\")\n",
    "df = file[['timestamp', 'x', 'y', 'z']].copy()\n",
    "df.head()"
   ]
  },
  {
   "cell_type": "code",
   "execution_count": 496,
   "metadata": {},
   "outputs": [
    {
     "data": {
      "text/html": [
       "<div>\n",
       "<style scoped>\n",
       "    .dataframe tbody tr th:only-of-type {\n",
       "        vertical-align: middle;\n",
       "    }\n",
       "\n",
       "    .dataframe tbody tr th {\n",
       "        vertical-align: top;\n",
       "    }\n",
       "\n",
       "    .dataframe thead th {\n",
       "        text-align: right;\n",
       "    }\n",
       "</style>\n",
       "<table border=\"1\" class=\"dataframe\">\n",
       "  <thead>\n",
       "    <tr style=\"text-align: right;\">\n",
       "      <th></th>\n",
       "      <th>label</th>\n",
       "    </tr>\n",
       "  </thead>\n",
       "  <tbody>\n",
       "    <tr>\n",
       "      <td>0</td>\n",
       "      <td>1</td>\n",
       "    </tr>\n",
       "    <tr>\n",
       "      <td>1</td>\n",
       "      <td>1</td>\n",
       "    </tr>\n",
       "    <tr>\n",
       "      <td>2</td>\n",
       "      <td>1</td>\n",
       "    </tr>\n",
       "    <tr>\n",
       "      <td>3</td>\n",
       "      <td>1</td>\n",
       "    </tr>\n",
       "    <tr>\n",
       "      <td>4</td>\n",
       "      <td>1</td>\n",
       "    </tr>\n",
       "  </tbody>\n",
       "</table>\n",
       "</div>"
      ],
      "text/plain": [
       "   label\n",
       "0      1\n",
       "1      1\n",
       "2      1\n",
       "3      1\n",
       "4      1"
      ]
     },
     "execution_count": 496,
     "metadata": {},
     "output_type": "execute_result"
    }
   ],
   "source": [
    "# Load and read label csv file\n",
    "file2 = pd.read_csv(\"train_labels.csv\")\n",
    "label_df = file2[['label']].copy()\n",
    "label_df.head()"
   ]
  },
  {
   "cell_type": "code",
   "execution_count": 497,
   "metadata": {},
   "outputs": [
    {
     "name": "stdout",
     "output_type": "stream",
     "text": [
      "375\n"
     ]
    }
   ],
   "source": [
    "# Extract every ten entries from training csv file\n",
    "# Confirm that it matches the length of labels\n",
    "raw_data = df.to_numpy();\n",
    "input = []\n",
    "i = 3\n",
    "while i < 3744:\n",
    "    input.append(raw_data[i])\n",
    "    i += 10\n",
    "\n",
    "print(len(input))"
   ]
  },
  {
   "cell_type": "code",
   "execution_count": 498,
   "metadata": {},
   "outputs": [],
   "source": [
    "# Turn extracted entries into a dataframe\n",
    "input_df = pd.DataFrame(input, columns = ['timestamp', 'x', 'y', 'z'])"
   ]
  },
  {
   "cell_type": "code",
   "execution_count": 499,
   "metadata": {},
   "outputs": [
    {
     "name": "stdout",
     "output_type": "stream",
     "text": [
      "3744 375\n"
     ]
    }
   ],
   "source": [
    "# Check lengths of the original dataframe and the label dataframe\n",
    "print (len(df), len(label_df))"
   ]
  },
  {
   "cell_type": "code",
   "execution_count": 500,
   "metadata": {},
   "outputs": [
    {
     "data": {
      "text/html": [
       "<div>\n",
       "<style scoped>\n",
       "    .dataframe tbody tr th:only-of-type {\n",
       "        vertical-align: middle;\n",
       "    }\n",
       "\n",
       "    .dataframe tbody tr th {\n",
       "        vertical-align: top;\n",
       "    }\n",
       "\n",
       "    .dataframe thead th {\n",
       "        text-align: right;\n",
       "    }\n",
       "</style>\n",
       "<table border=\"1\" class=\"dataframe\">\n",
       "  <thead>\n",
       "    <tr style=\"text-align: right;\">\n",
       "      <th></th>\n",
       "      <th>timestamp</th>\n",
       "      <th>x</th>\n",
       "      <th>y</th>\n",
       "      <th>z</th>\n",
       "    </tr>\n",
       "  </thead>\n",
       "  <tbody>\n",
       "    <tr>\n",
       "      <td>3739</td>\n",
       "      <td>1565110305638</td>\n",
       "      <td>0.024384</td>\n",
       "      <td>-0.710709</td>\n",
       "      <td>0.030304</td>\n",
       "    </tr>\n",
       "    <tr>\n",
       "      <td>3740</td>\n",
       "      <td>1565110305738</td>\n",
       "      <td>0.487228</td>\n",
       "      <td>-1.099136</td>\n",
       "      <td>-0.015213</td>\n",
       "    </tr>\n",
       "    <tr>\n",
       "      <td>3741</td>\n",
       "      <td>1565110305838</td>\n",
       "      <td>0.369446</td>\n",
       "      <td>-0.968506</td>\n",
       "      <td>0.036713</td>\n",
       "    </tr>\n",
       "    <tr>\n",
       "      <td>3742</td>\n",
       "      <td>1565110305939</td>\n",
       "      <td>0.167877</td>\n",
       "      <td>-0.802826</td>\n",
       "      <td>0.049805</td>\n",
       "    </tr>\n",
       "    <tr>\n",
       "      <td>3743</td>\n",
       "      <td>1565110306039</td>\n",
       "      <td>0.689346</td>\n",
       "      <td>-0.991043</td>\n",
       "      <td>0.034973</td>\n",
       "    </tr>\n",
       "  </tbody>\n",
       "</table>\n",
       "</div>"
      ],
      "text/plain": [
       "          timestamp         x         y         z\n",
       "3739  1565110305638  0.024384 -0.710709  0.030304\n",
       "3740  1565110305738  0.487228 -1.099136 -0.015213\n",
       "3741  1565110305838  0.369446 -0.968506  0.036713\n",
       "3742  1565110305939  0.167877 -0.802826  0.049805\n",
       "3743  1565110306039  0.689346 -0.991043  0.034973"
      ]
     },
     "execution_count": 500,
     "metadata": {},
     "output_type": "execute_result"
    }
   ],
   "source": [
    "# Print a portion of the original dataframe\n",
    "df.tail()"
   ]
  },
  {
   "cell_type": "code",
   "execution_count": 501,
   "metadata": {},
   "outputs": [
    {
     "data": {
      "text/html": [
       "<div>\n",
       "<style scoped>\n",
       "    .dataframe tbody tr th:only-of-type {\n",
       "        vertical-align: middle;\n",
       "    }\n",
       "\n",
       "    .dataframe tbody tr th {\n",
       "        vertical-align: top;\n",
       "    }\n",
       "\n",
       "    .dataframe thead th {\n",
       "        text-align: right;\n",
       "    }\n",
       "</style>\n",
       "<table border=\"1\" class=\"dataframe\">\n",
       "  <thead>\n",
       "    <tr style=\"text-align: right;\">\n",
       "      <th></th>\n",
       "      <th>label</th>\n",
       "    </tr>\n",
       "  </thead>\n",
       "  <tbody>\n",
       "    <tr>\n",
       "      <td>370</td>\n",
       "      <td>4</td>\n",
       "    </tr>\n",
       "    <tr>\n",
       "      <td>371</td>\n",
       "      <td>4</td>\n",
       "    </tr>\n",
       "    <tr>\n",
       "      <td>372</td>\n",
       "      <td>4</td>\n",
       "    </tr>\n",
       "    <tr>\n",
       "      <td>373</td>\n",
       "      <td>4</td>\n",
       "    </tr>\n",
       "    <tr>\n",
       "      <td>374</td>\n",
       "      <td>4</td>\n",
       "    </tr>\n",
       "  </tbody>\n",
       "</table>\n",
       "</div>"
      ],
      "text/plain": [
       "     label\n",
       "370      4\n",
       "371      4\n",
       "372      4\n",
       "373      4\n",
       "374      4"
      ]
     },
     "execution_count": 501,
     "metadata": {},
     "output_type": "execute_result"
    }
   ],
   "source": [
    "# Print a portion of the label dataframe\n",
    "label_df.tail()"
   ]
  },
  {
   "cell_type": "code",
   "execution_count": 502,
   "metadata": {},
   "outputs": [
    {
     "name": "stdout",
     "output_type": "stream",
     "text": [
      "          x         y         z\n",
      "0 -0.053802 -0.987701  0.068985\n",
      "1  0.013718 -0.852371 -0.000870\n",
      "2  0.145584 -1.007843 -0.036819\n",
      "3 -0.099380 -1.209686  0.304489\n",
      "4  0.082794 -1.001434 -0.025375\n",
      "            x         y         z\n",
      "370 -0.641953 -1.469177  0.301041\n",
      "371 -0.171616 -0.366074 -0.059082\n",
      "372  0.401810 -1.077698  0.258911\n",
      "373  0.330338 -1.470062  0.303894\n",
      "374  0.689346 -0.991043  0.034973\n"
     ]
    }
   ],
   "source": [
    "# Take all the rows and just extract the x, y, and z accels\n",
    "# Call it accels\n",
    "accels = input_df.iloc[:, 1:5]\n",
    "print(accels.head())\n",
    "print(accels.tail())"
   ]
  },
  {
   "cell_type": "markdown",
   "metadata": {},
   "source": [
    "***Visualize data using correlation matrices:***"
   ]
  },
  {
   "cell_type": "code",
   "execution_count": 481,
   "metadata": {},
   "outputs": [
    {
     "name": "stdout",
     "output_type": "stream",
     "text": [
      "          x         y         z\n",
      "x  1.000000 -0.315754  0.288981\n",
      "y -0.315754  1.000000 -0.327332\n",
      "z  0.288981 -0.327332  1.000000\n"
     ]
    }
   ],
   "source": [
    "corr_accels = pd.DataFrame.corr(accels)\n",
    "print(corr_accels)"
   ]
  },
  {
   "cell_type": "code",
   "execution_count": 482,
   "metadata": {},
   "outputs": [
    {
     "data": {
      "image/png": "[encoded data removed]",
      "text/plain": [
       "<Figure size 720x720 with 2 Axes>"
      ]
     },
     "metadata": {
      "needs_background": "light"
     },
     "output_type": "display_data"
    }
   ],
   "source": [
    "plt.figure(figsize=(10,10))\n",
    "plt.pcolor(corr_accels)\n",
    "plt.colorbar()\n",
    "plt.savefig(\"corr_flavors.pdf\")"
   ]
  },
  {
   "cell_type": "code",
   "execution_count": 98,
   "metadata": {},
   "outputs": [
    {
     "data": {
      "text/html": [
       "<div>\n",
       "<style scoped>\n",
       "    .dataframe tbody tr th:only-of-type {\n",
       "        vertical-align: middle;\n",
       "    }\n",
       "\n",
       "    .dataframe tbody tr th {\n",
       "        vertical-align: top;\n",
       "    }\n",
       "\n",
       "    .dataframe thead th {\n",
       "        text-align: right;\n",
       "    }\n",
       "</style>\n",
       "<table border=\"1\" class=\"dataframe\">\n",
       "  <thead>\n",
       "    <tr style=\"text-align: right;\">\n",
       "      <th></th>\n",
       "      <th>0</th>\n",
       "      <th>1</th>\n",
       "      <th>2</th>\n",
       "      <th>3</th>\n",
       "      <th>4</th>\n",
       "      <th>5</th>\n",
       "      <th>6</th>\n",
       "      <th>7</th>\n",
       "      <th>8</th>\n",
       "      <th>9</th>\n",
       "      <th>...</th>\n",
       "      <th>365</th>\n",
       "      <th>366</th>\n",
       "      <th>367</th>\n",
       "      <th>368</th>\n",
       "      <th>369</th>\n",
       "      <th>370</th>\n",
       "      <th>371</th>\n",
       "      <th>372</th>\n",
       "      <th>373</th>\n",
       "      <th>374</th>\n",
       "    </tr>\n",
       "  </thead>\n",
       "  <tbody>\n",
       "    <tr>\n",
       "      <td>x</td>\n",
       "      <td>-0.053802</td>\n",
       "      <td>0.013718</td>\n",
       "      <td>0.145584</td>\n",
       "      <td>-0.099380</td>\n",
       "      <td>0.082794</td>\n",
       "      <td>0.037582</td>\n",
       "      <td>-0.020554</td>\n",
       "      <td>0.032440</td>\n",
       "      <td>0.212524</td>\n",
       "      <td>0.154510</td>\n",
       "      <td>...</td>\n",
       "      <td>0.744705</td>\n",
       "      <td>0.344559</td>\n",
       "      <td>0.519257</td>\n",
       "      <td>0.320328</td>\n",
       "      <td>0.903320</td>\n",
       "      <td>-0.641953</td>\n",
       "      <td>-0.171616</td>\n",
       "      <td>0.401810</td>\n",
       "      <td>0.330338</td>\n",
       "      <td>0.689346</td>\n",
       "    </tr>\n",
       "    <tr>\n",
       "      <td>y</td>\n",
       "      <td>-0.987701</td>\n",
       "      <td>-0.852371</td>\n",
       "      <td>-1.007843</td>\n",
       "      <td>-1.209686</td>\n",
       "      <td>-1.001434</td>\n",
       "      <td>-0.998383</td>\n",
       "      <td>-0.999741</td>\n",
       "      <td>-0.970337</td>\n",
       "      <td>-0.976364</td>\n",
       "      <td>-0.843460</td>\n",
       "      <td>...</td>\n",
       "      <td>-2.169205</td>\n",
       "      <td>-0.905853</td>\n",
       "      <td>-1.040115</td>\n",
       "      <td>-0.928375</td>\n",
       "      <td>-1.102219</td>\n",
       "      <td>-1.469177</td>\n",
       "      <td>-0.366074</td>\n",
       "      <td>-1.077698</td>\n",
       "      <td>-1.470062</td>\n",
       "      <td>-0.991043</td>\n",
       "    </tr>\n",
       "    <tr>\n",
       "      <td>z</td>\n",
       "      <td>0.068985</td>\n",
       "      <td>-0.000870</td>\n",
       "      <td>-0.036819</td>\n",
       "      <td>0.304489</td>\n",
       "      <td>-0.025375</td>\n",
       "      <td>0.019333</td>\n",
       "      <td>0.120789</td>\n",
       "      <td>0.241425</td>\n",
       "      <td>0.074997</td>\n",
       "      <td>0.010544</td>\n",
       "      <td>...</td>\n",
       "      <td>1.741806</td>\n",
       "      <td>-0.170364</td>\n",
       "      <td>0.262863</td>\n",
       "      <td>0.208405</td>\n",
       "      <td>-0.000549</td>\n",
       "      <td>0.301041</td>\n",
       "      <td>-0.059082</td>\n",
       "      <td>0.258911</td>\n",
       "      <td>0.303894</td>\n",
       "      <td>0.034973</td>\n",
       "    </tr>\n",
       "  </tbody>\n",
       "</table>\n",
       "<p>3 rows × 375 columns</p>\n",
       "</div>"
      ],
      "text/plain": [
       "        0         1         2         3         4         5         6    \\\n",
       "x -0.053802  0.013718  0.145584 -0.099380  0.082794  0.037582 -0.020554   \n",
       "y -0.987701 -0.852371 -1.007843 -1.209686 -1.001434 -0.998383 -0.999741   \n",
       "z  0.068985 -0.000870 -0.036819  0.304489 -0.025375  0.019333  0.120789   \n",
       "\n",
       "        7         8         9    ...       365       366       367       368  \\\n",
       "x  0.032440  0.212524  0.154510  ...  0.744705  0.344559  0.519257  0.320328   \n",
       "y -0.970337 -0.976364 -0.843460  ... -2.169205 -0.905853 -1.040115 -0.928375   \n",
       "z  0.241425  0.074997  0.010544  ...  1.741806 -0.170364  0.262863  0.208405   \n",
       "\n",
       "        369       370       371       372       373       374  \n",
       "x  0.903320 -0.641953 -0.171616  0.401810  0.330338  0.689346  \n",
       "y -1.102219 -1.469177 -0.366074 -1.077698 -1.470062 -0.991043  \n",
       "z -0.000549  0.301041 -0.059082  0.258911  0.303894  0.034973  \n",
       "\n",
       "[3 rows x 375 columns]"
      ]
     },
     "execution_count": 98,
     "metadata": {},
     "output_type": "execute_result"
    }
   ],
   "source": [
    "new_accels = accels.transpose()\n",
    "new_accels"
   ]
  },
  {
   "cell_type": "code",
   "execution_count": 97,
   "metadata": {},
   "outputs": [
    {
     "name": "stdout",
     "output_type": "stream",
     "text": [
      "[368   2   2   3]\n",
      "[1 1 1 1 1 1 1 1 1 1 1 1 1 1 1 1 1 1 1 1 1 1 1 1 1 1 1 1 1 1 1 1 1 1 1 1 1\n",
      " 1 1 1 1 1 1 1 1 1 1 1 1 1 1 1 1 1 1 1 1 1 1 1 1 1 1 1 1 1 1 1 1 1 1 1 1 1\n",
      " 1 1 1 1 1 1 1 1 1 1 1 1 1 1 1 1 1 1 1 1 1 1 1 1 1 1 1 1 1 1 1 1 1 1 1 1 1\n",
      " 1 1 1 1 1 1 1 1 1 1 1 1 1 1 1 1 1 1 1 1 1 1 1 1 1 1 1 1 1 1 1 1 1 1 1 1 1\n",
      " 1 1 1 1 1 1 1 1 1 1 1 1 1 1 1 1 1 1 1 1 1 1 1 1 1 1 1 1 1 1 1 1 1 1 1 1 1\n",
      " 1 1 1 1 1 1 1 1 1 1 1 1 1 1 1 1 1 1 1 1 1 1 1 1 1 1 1 1 1 1 1 1 1 1 1 1 1\n",
      " 1 1 1 1 1 1 1 1 1 1 1 1 1 1 1 1 1 1 1 1 1 1 1 1 1 1 1 1 1 1 1 1 1 1 1 1 1\n",
      " 1 1 1 1 1 1 1 1 1 1 1 1 1 1 1 1 1 1 1 1 1 1 1 1 1 1 1 1 1 1 1 1 1 1 1 1 1\n",
      " 1 1 1 1 1 1 1 1 1 1 1 1 1 1 1 1 1 1 1 1 1 1 1 1 1 1 1 1 1 1 1 1 1 1 1 1 1\n",
      " 1 1 1 1 1 1 1 1 1 1 1 1 1 1 1 1 1 1 1 1 1 1 1 1 1 1 1 1 1 1 1 1 1 1 1 1 1\n",
      " 1 1 1 1 1]\n"
     ]
    },
    {
     "data": {
      "text/plain": [
       "array([0, 0, 0, 0, 0, 0, 0, 0, 0, 0, 0, 0, 0, 0, 0, 0, 1, 0, 0, 0, 0, 0,\n",
       "       0, 0, 0, 0, 0, 0, 0, 0, 0, 0, 0, 0, 0, 0, 0, 0, 1, 0, 0, 0, 0, 0,\n",
       "       0, 0, 0, 0, 0, 0, 0, 0, 0, 0, 0, 0, 0, 0, 0, 0, 0, 0, 0, 0, 0, 0,\n",
       "       0, 0, 0, 0, 0, 0, 0, 2, 0, 0, 0, 0, 0, 0, 0, 0, 0, 0, 0, 0, 0, 0,\n",
       "       0, 0, 0, 0, 0, 0, 0, 0, 0, 0, 0, 0, 0, 0, 0, 0, 0, 0, 0, 0, 0, 0,\n",
       "       0, 0, 0, 0, 0, 0, 0, 0, 0, 0, 0, 0, 0, 0, 0, 0, 0, 0, 0, 0, 0, 0,\n",
       "       0, 0, 0, 0, 0, 0, 0, 0, 0, 0, 0, 0, 0, 0, 0, 0, 0, 0, 0, 0, 0, 0,\n",
       "       0, 0, 0, 0, 0, 0, 0, 0, 0, 0, 0, 0, 0, 0, 0, 0, 0, 0, 0, 0, 0, 0,\n",
       "       0, 0, 0, 0, 0, 0, 0, 0, 0, 0, 0, 0, 0, 0, 0, 0, 0, 0, 0, 0, 0, 0,\n",
       "       0, 0, 0, 0, 0, 0, 0, 0, 2, 0, 0, 0, 0, 0, 0, 3, 0, 0, 0, 0, 0, 0,\n",
       "       0, 0, 0, 0, 0, 0, 0, 0, 0, 0, 0, 0, 0, 0, 0, 0, 0, 0, 0, 0, 0, 0,\n",
       "       0, 0, 0, 0, 0, 0, 0, 0, 0, 0, 0, 0, 0, 0, 0, 0, 0, 0, 0, 0, 0, 0,\n",
       "       0, 0, 0, 0, 0, 0, 0, 0, 0, 0, 0, 0, 0, 0, 0, 0, 0, 0, 0, 0, 0, 0,\n",
       "       0, 0, 0, 0, 0, 0, 0, 0, 0, 0, 0, 0, 3, 0, 0, 0, 0, 0, 0, 0, 0, 0,\n",
       "       0, 0, 0, 0, 0, 0, 0, 0, 0, 0, 0, 0, 0, 0, 0, 0, 0, 0, 0, 0, 0, 0,\n",
       "       0, 0, 0, 0, 0, 0, 0, 0, 0, 0, 0, 0, 0, 0, 0, 0, 0, 0, 0, 0, 0, 0,\n",
       "       0, 0, 0, 0, 0, 0, 0, 0, 0, 0, 0, 0, 3, 0, 0, 0, 0, 0, 0, 0, 0, 0,\n",
       "       0])"
      ]
     },
     "execution_count": 97,
     "metadata": {},
     "output_type": "execute_result"
    }
   ],
   "source": [
    "from sklearn.cluster.bicluster import SpectralCoclustering\n",
    "model = SpectralCoclustering(n_clusters=4, random_state=0)\n",
    "model.fit(corr_activities)\n",
    "print(np.sum(model.rows_, axis=1))\n",
    "print(np.sum(model.rows_, axis=0))\n",
    "model.row_labels_"
   ]
  },
  {
   "cell_type": "markdown",
   "metadata": {},
   "source": [
    "***Method 1: KNN (k-nearest neighbors)***"
   ]
  },
  {
   "cell_type": "code",
   "execution_count": 518,
   "metadata": {},
   "outputs": [
    {
     "name": "stdout",
     "output_type": "stream",
     "text": [
      "The time of execution of above program is : 17.000198364257812 ms\n"
     ]
    }
   ],
   "source": [
    "from sklearn.model_selection import train_test_split\n",
    "from sklearn.neighbors import KNeighborsClassifier\n",
    "\n",
    "# Import time module\n",
    "import time\n",
    " \n",
    "# record start time\n",
    "start = time.time()\n",
    "\n",
    "TEST_SIZE = 0.5\n",
    "\n",
    "X = accels['x'].tolist()\n",
    "Y = accels['y'].tolist()\n",
    "Z = accels['z'].tolist()\n",
    "\n",
    "evidence = list()\n",
    "labels = list()\n",
    "\n",
    "for i in range(len(X)):\n",
    "    item = list()\n",
    "    item.append(X[i])\n",
    "    item.append(Y[i])\n",
    "    item.append(Z[i])\n",
    "    evidence.append(item)\n",
    "\n",
    "transposed_labels = label_df.transpose()\n",
    "temp_array = transposed_labels.to_numpy()\n",
    "for i in range (len(temp_array[0])):\n",
    "    labels.append(temp_array[0][i])\n",
    "\n",
    "# Load data from spreadsheet and split into train and test sets\n",
    "# 10% of data will be used for training, 90% of data will be used for testing\n",
    "X_train, X_test, y_train, y_test = train_test_split(evidence, labels, test_size=TEST_SIZE)\n",
    "\n",
    "# Train model and make predictions\n",
    "# The parameter n_neighbors is the number of neighbors that are taken into account \n",
    "model = KNeighborsClassifier(n_neighbors=7)\n",
    "model.fit(X_train, y_train)\n",
    "predictions = model.predict(X_test)\n",
    "\n",
    "# record end time\n",
    "end = time.time()\n",
    " \n",
    "# print the difference between start\n",
    "# and end time in milli. secs\n",
    "print(\"The time of execution of above program is :\",\n",
    "      (end-start) * 10**3, \"ms\")"
   ]
  },
  {
   "cell_type": "code",
   "execution_count": 519,
   "metadata": {},
   "outputs": [
    {
     "name": "stdout",
     "output_type": "stream",
     "text": [
      "[2 2 2 3 2 3 2 2 3 1 1 2 2 2 2 1 2 2 2 2 1 3 2 2 2 2 2 3 2 2 2 2 1 3 2 1 2\n",
      " 2 3 2 2 2 2 2 2 2 2 2 2 2 2 2 2 2 2 2 2 2 2 2 2 2 2 2 2 1 2 1 2 2 3 3 2 2\n",
      " 1 2 2 3 3 2 3 2 2 2 2 2 2 2 2 2 2 2 3 2 2 2 3 2 2 2 2 2 2 2 2 2 2 2 2 2 2\n",
      " 2 2 2 2 2 1 1 2 2 3 2 2 1 4 1 2 2 2 4 2 2 2 3 2 2 2 2 2 2 2 2 2 3 2 2 2 2\n",
      " 2 2 2 2 2 3 2 2 2 2 2 2 2 2 2 2 2 2 2 2 2 1 2 2 2 2 2 2 2 2 2 1 2 2 2 2 2\n",
      " 2 2 1] 188\n"
     ]
    }
   ],
   "source": [
    "print(predictions, len(predictions))"
   ]
  },
  {
   "cell_type": "code",
   "execution_count": 520,
   "metadata": {},
   "outputs": [
    {
     "name": "stdout",
     "output_type": "stream",
     "text": [
      "[3, 2, 2, 1, 2, 2, 2, 4, 2, 1, 1, 3, 2, 2, 4, 1, 1, 3, 3, 2, 1, 3, 3, 2, 4, 2, 2, 4, 2, 2, 3, 4, 1, 1, 2, 1, 2, 1, 2, 2, 4, 2, 2, 2, 3, 2, 4, 2, 2, 2, 2, 2, 4, 3, 2, 2, 2, 3, 3, 2, 4, 3, 2, 2, 2, 3, 2, 4, 3, 2, 2, 3, 2, 2, 1, 2, 2, 3, 2, 2, 3, 2, 3, 2, 2, 2, 3, 2, 3, 2, 2, 2, 3, 4, 2, 2, 3, 2, 2, 2, 2, 2, 4, 2, 3, 2, 2, 2, 2, 2, 2, 2, 2, 2, 4, 2, 2, 1, 3, 2, 2, 2, 2, 1, 4, 1, 2, 2, 4, 3, 4, 4, 4, 3, 4, 2, 2, 2, 2, 3, 3, 3, 2, 3, 2, 4, 2, 2, 2, 3, 4, 3, 4, 2, 3, 3, 2, 2, 2, 2, 2, 2, 4, 2, 3, 2, 2, 2, 3, 1, 3, 2, 2, 2, 3, 3, 2, 2, 2, 1, 3, 2, 3, 2, 4, 4, 3, 1] 188\n"
     ]
    }
   ],
   "source": [
    "print(y_test, len(y_test))"
   ]
  },
  {
   "cell_type": "code",
   "execution_count": 521,
   "metadata": {},
   "outputs": [
    {
     "data": {
      "text/plain": [
       "0.6276595744680851"
      ]
     },
     "execution_count": 521,
     "metadata": {},
     "output_type": "execute_result"
    }
   ],
   "source": [
    "# Test the accuracy of the model\n",
    "counter = 0\n",
    "for i in range (len(y_test)):\n",
    "    if predictions[i] == y_test[i]:\n",
    "        counter += 1\n",
    "counter/len(y_test)"
   ]
  },
  {
   "cell_type": "code",
   "execution_count": 522,
   "metadata": {},
   "outputs": [
    {
     "data": {
      "text/plain": [
       "0.6276595744680851"
      ]
     },
     "execution_count": 522,
     "metadata": {},
     "output_type": "execute_result"
    }
   ],
   "source": [
    "# A shortcut to testing the accuracy\n",
    "acc = accuracy_score(y_test, predictions)\n",
    "acc"
   ]
  },
  {
   "cell_type": "markdown",
   "metadata": {},
   "source": [
    "***Method 2: Multimodal Logistic Regression***"
   ]
  },
  {
   "cell_type": "code",
   "execution_count": 483,
   "metadata": {},
   "outputs": [
    {
     "name": "stdout",
     "output_type": "stream",
     "text": [
      "Mean Accuracy: 0.563 (0.036)\n"
     ]
    }
   ],
   "source": [
    "# evaluate multinomial logistic regression model\n",
    "from numpy import mean\n",
    "from numpy import std\n",
    "from sklearn.datasets import make_classification\n",
    "from sklearn.model_selection import cross_val_score\n",
    "from sklearn.model_selection import RepeatedStratifiedKFold\n",
    "from sklearn.linear_model import LogisticRegression\n",
    "\n",
    "# Split dataset\n",
    "X_train, X_test, y_train, y_test = train_test_split(evidence, labels, test_size=0.5)\n",
    "\n",
    "# define the multinomial logistic regression model\n",
    "model = LogisticRegression(multi_class='multinomial', solver='lbfgs')\n",
    "\n",
    "# define the model evaluation procedure\n",
    "cv = RepeatedStratifiedKFold(n_splits=10, n_repeats=3, random_state=1)\n",
    "\n",
    "# evaluate the model and collect the scores\n",
    "n_scores = cross_val_score(model, X_train, y_train, scoring='accuracy', cv=cv, n_jobs=-1)\n",
    "\n",
    "# report the model performance\n",
    "print('Mean Accuracy: %.3f (%.3f)' % (mean(n_scores), std(n_scores)))"
   ]
  },
  {
   "cell_type": "code",
   "execution_count": 484,
   "metadata": {},
   "outputs": [
    {
     "name": "stdout",
     "output_type": "stream",
     "text": [
      "Predicted Class: 2\n"
     ]
    }
   ],
   "source": [
    "# make a prediction with a multinomial logistic regression model\n",
    "from sklearn.datasets import make_classification\n",
    "from sklearn.linear_model import LogisticRegression\n",
    "\n",
    "# define a single row of input data\n",
    "row = X_test[0]\n",
    "\n",
    "# define the multinomial logistic regression model\n",
    "model = LogisticRegression(multi_class='multinomial', solver='lbfgs')\n",
    "\n",
    "# fit the model on the whole dataset\n",
    "model.fit(X_train, y_train)\n",
    "\n",
    "# predict the class label\n",
    "yhat = model.predict([row])\n",
    "\n",
    "# summarize the predicted class\n",
    "print('Predicted Class: %d' % yhat[0])"
   ]
  },
  {
   "cell_type": "code",
   "execution_count": 485,
   "metadata": {},
   "outputs": [
    {
     "name": "stdout",
     "output_type": "stream",
     "text": [
      "Predicted Probabilities: [0.0639326  0.4549198  0.27823046 0.20291715]\n"
     ]
    }
   ],
   "source": [
    "# predict probabilities with a multinomial logistic regression model\n",
    "from sklearn.datasets import make_classification\n",
    "from sklearn.linear_model import LogisticRegression\n",
    "\n",
    "# define the multinomial logistic regression model\n",
    "model = LogisticRegression(multi_class='multinomial', solver='lbfgs')\n",
    "\n",
    "# fit the model on the whole dataset\n",
    "model.fit(X_train, y_train) \n",
    "\n",
    "# define a single row of input data\n",
    "row = X_test[2]\n",
    "\n",
    "# predict a multinomial probability distribution\n",
    "yhat = model.predict_proba([row])\n",
    "\n",
    "# summarize the predicted probabilities\n",
    "print('Predicted Probabilities: %s' % yhat[0])"
   ]
  },
  {
   "cell_type": "code",
   "execution_count": 489,
   "metadata": {},
   "outputs": [
    {
     "name": "stdout",
     "output_type": "stream",
     "text": [
      "[2 2 2 2 2 2 2 2 2 2 2 2 2 3 2 2 3 2 2 2 2 2 3 2 2 2 2 2 3 2 3 2 2 2 2 2 2\n",
      " 2 2 2 2 2 2 2 2 2 2 2 2 2 2 2 2 2 2 2 2 2 2 2 2 2 3 2 2 2 2 2 2 2 2 2 2 2\n",
      " 2 2 2 2 2 2 2 2 2 2 2 2 2 2 3 2 2 2 2 2 2 2 2 2 2 2 2 2 2 2 2 2 2 2 2 2 2\n",
      " 2 2 2 2 2 2 2 3 2 2 2 2 2 2 2 2 2 2 2 2 2 2 2 2 2 2 2 2 2 2 2 3 2 2 2 2 3\n",
      " 2 3 2 2 2 2 2 2 2 2 2 3 2 2 2 2 2 2 2 3 2 2 2 2 2 2 2 2 2 2 2 2 2 2 2 2 2\n",
      " 2 2 2] 188\n",
      "The time of execution of above program is : 23.001670837402344 ms\n"
     ]
    }
   ],
   "source": [
    "# record start time\n",
    "start = time.time()\n",
    "\n",
    "# define the multinomial logistic regression model\n",
    "model = LogisticRegression(multi_class='multinomial', solver='lbfgs')\n",
    "\n",
    "# fit the model on the whole dataset\n",
    "model.fit(X_train, y_train)\n",
    "\n",
    "log_predictions = model.predict(X_test)\n",
    "print(log_predictions, len(log_predictions))\n",
    "\n",
    "# record end time\n",
    "end = time.time()\n",
    " \n",
    "# print the difference between start\n",
    "# and end time in milli. secs\n",
    "print(\"The time of execution of above program is :\",\n",
    "      (end-start) * 10**3, \"ms\")"
   ]
  },
  {
   "cell_type": "code",
   "execution_count": 487,
   "metadata": {},
   "outputs": [
    {
     "name": "stdout",
     "output_type": "stream",
     "text": [
      "[2, 2, 2, 1, 2, 4, 3, 2, 3, 2, 4, 3, 2, 3, 3, 2, 4, 3, 2, 3, 3, 2, 3, 2, 4, 2, 2, 3, 2, 3, 2, 2, 2, 4, 4, 3, 1, 1, 1, 2, 4, 2, 3, 2, 3, 2, 3, 2, 3, 3, 2, 2, 3, 2, 2, 4, 4, 3, 2, 2, 2, 2, 4, 2, 2, 1, 3, 3, 3, 3, 2, 3, 4, 2, 2, 2, 2, 3, 2, 1, 3, 2, 2, 1, 2, 1, 2, 1, 2, 2, 3, 2, 3, 1, 2, 3, 3, 2, 2, 2, 3, 2, 2, 2, 3, 2, 2, 2, 3, 2, 2, 1, 2, 3, 2, 2, 3, 2, 2, 2, 4, 2, 3, 3, 2, 2, 4, 2, 3, 2, 2, 3, 3, 4, 3, 4, 2, 2, 2, 2, 2, 2, 2, 4, 2, 2, 3, 2, 2, 2, 3, 2, 3, 2, 2, 2, 3, 2, 2, 2, 4, 3, 2, 2, 2, 2, 2, 2, 3, 2, 3, 1, 3, 1, 2, 2, 2, 2, 2, 2, 2, 4, 2, 2, 2, 3, 2, 4] 188\n"
     ]
    }
   ],
   "source": [
    "print(y_test, len(y_test))"
   ]
  },
  {
   "cell_type": "code",
   "execution_count": 488,
   "metadata": {},
   "outputs": [
    {
     "data": {
      "text/plain": [
       "0.46808510638297873"
      ]
     },
     "execution_count": 488,
     "metadata": {},
     "output_type": "execute_result"
    }
   ],
   "source": [
    "# Test the accuracy\n",
    "acc = accuracy_score(y_test, predictions)\n",
    "acc"
   ]
  },
  {
   "cell_type": "markdown",
   "metadata": {},
   "source": [
    "***Method 3: Random Forest***"
   ]
  },
  {
   "cell_type": "code",
   "execution_count": 490,
   "metadata": {},
   "outputs": [
    {
     "name": "stdout",
     "output_type": "stream",
     "text": [
      "0.9893048128342246\n",
      "0.5585106382978723\n",
      "The time of execution of above program is : 29.994964599609375 ms\n"
     ]
    }
   ],
   "source": [
    "# Create random forest classifier\n",
    "\n",
    "# record start time\n",
    "start = time.time()\n",
    "\n",
    "clf=RandomForestClassifier()\n",
    "clf.fit(X_train, y_train)\n",
    "\n",
    "preds = clf.predict(X_test)\n",
    "\n",
    "# Print accuracy with training dataset - should be very close to 1\n",
    "print (clf.score(X_train, y_train))\n",
    "\n",
    "# Print accuracy with testing dataset\n",
    "print(clf.score(X_test, y_test))\n",
    "\n",
    "# record end time\n",
    "end = time.time()\n",
    " \n",
    "# print the difference between start\n",
    "# and end time in milli. secs\n",
    "print(\"The time of execution of above program is :\",\n",
    "      (end-start) * 10**3, \"ms\")"
   ]
  },
  {
   "cell_type": "code",
   "execution_count": 470,
   "metadata": {},
   "outputs": [
    {
     "data": {
      "text/plain": [
       "array([[ 6,  8,  1,  1],\n",
       "       [ 4, 82, 13, 12],\n",
       "       [ 0, 30,  7,  4],\n",
       "       [ 0, 15,  1,  4]], dtype=int64)"
      ]
     },
     "execution_count": 470,
     "metadata": {},
     "output_type": "execute_result"
    }
   ],
   "source": [
    "# Print confusion matrix\n",
    "# Rows = predicted\n",
    "# Columns = Actual\n",
    "# Numbers on diagonal thus tell us how many were correctly classified\n",
    "from sklearn import tree, model_selection, metrics\n",
    "metrics.confusion_matrix(y_test, preds,  labels = [1, 2, 3, 4])"
   ]
  },
  {
   "cell_type": "markdown",
   "metadata": {},
   "source": [
    "***Best method: KNN***"
   ]
  },
  {
   "cell_type": "code",
   "execution_count": 493,
   "metadata": {},
   "outputs": [
    {
     "data": {
      "text/html": [
       "<div>\n",
       "<style scoped>\n",
       "    .dataframe tbody tr th:only-of-type {\n",
       "        vertical-align: middle;\n",
       "    }\n",
       "\n",
       "    .dataframe tbody tr th {\n",
       "        vertical-align: top;\n",
       "    }\n",
       "\n",
       "    .dataframe thead th {\n",
       "        text-align: right;\n",
       "    }\n",
       "</style>\n",
       "<table border=\"1\" class=\"dataframe\">\n",
       "  <thead>\n",
       "    <tr style=\"text-align: right;\">\n",
       "      <th></th>\n",
       "      <th>timestamp</th>\n",
       "      <th>x</th>\n",
       "      <th>y</th>\n",
       "      <th>z</th>\n",
       "    </tr>\n",
       "  </thead>\n",
       "  <tbody>\n",
       "    <tr>\n",
       "      <td>0</td>\n",
       "      <td>1565110306139</td>\n",
       "      <td>0.034286</td>\n",
       "      <td>-1.504456</td>\n",
       "      <td>0.157623</td>\n",
       "    </tr>\n",
       "    <tr>\n",
       "      <td>1</td>\n",
       "      <td>1565110306239</td>\n",
       "      <td>0.409164</td>\n",
       "      <td>-1.038544</td>\n",
       "      <td>0.030975</td>\n",
       "    </tr>\n",
       "    <tr>\n",
       "      <td>2</td>\n",
       "      <td>1565110306340</td>\n",
       "      <td>-0.234390</td>\n",
       "      <td>-0.984558</td>\n",
       "      <td>0.124771</td>\n",
       "    </tr>\n",
       "    <tr>\n",
       "      <td>3</td>\n",
       "      <td>1565110306440</td>\n",
       "      <td>0.251114</td>\n",
       "      <td>-0.787003</td>\n",
       "      <td>0.054810</td>\n",
       "    </tr>\n",
       "    <tr>\n",
       "      <td>4</td>\n",
       "      <td>1565110306540</td>\n",
       "      <td>0.109924</td>\n",
       "      <td>-0.169510</td>\n",
       "      <td>0.235550</td>\n",
       "    </tr>\n",
       "  </tbody>\n",
       "</table>\n",
       "</div>"
      ],
      "text/plain": [
       "       timestamp         x         y         z\n",
       "0  1565110306139  0.034286 -1.504456  0.157623\n",
       "1  1565110306239  0.409164 -1.038544  0.030975\n",
       "2  1565110306340 -0.234390 -0.984558  0.124771\n",
       "3  1565110306440  0.251114 -0.787003  0.054810\n",
       "4  1565110306540  0.109924 -0.169510  0.235550"
      ]
     },
     "execution_count": 493,
     "metadata": {},
     "output_type": "execute_result"
    }
   ],
   "source": [
    "# Load and read training csv file\n",
    "fileR = pd.read_csv(\"test_time_series.csv\")\n",
    "dfR = fileR[['timestamp', 'x', 'y', 'z']].copy()\n",
    "dfR.head()"
   ]
  },
  {
   "cell_type": "code",
   "execution_count": 494,
   "metadata": {},
   "outputs": [
    {
     "name": "stdout",
     "output_type": "stream",
     "text": [
      "          x         y         z\n",
      "0  0.034286 -1.504456  0.157623\n",
      "1  0.409164 -1.038544  0.030975\n",
      "2 -0.234390 -0.984558  0.124771\n",
      "3  0.251114 -0.787003  0.054810\n",
      "4  0.109924 -0.169510  0.235550\n",
      "             x         y         z\n",
      "1245  0.036499 -0.724823  0.553802\n",
      "1246 -0.159241  0.307022  0.142410\n",
      "1247 -0.037964 -0.673706  1.065445\n",
      "1248  0.255707 -1.485397 -0.013336\n",
      "1249 -0.089462 -0.734573 -0.100876\n"
     ]
    }
   ],
   "source": [
    "# Take all the rows and just extract the x, y, and z accels\n",
    "# Call it accels\n",
    "accelsR = dfR.iloc[:, 1:5]\n",
    "print(accelsR.head())\n",
    "print(accelsR.tail())"
   ]
  },
  {
   "cell_type": "code",
   "execution_count": 525,
   "metadata": {},
   "outputs": [
    {
     "name": "stdout",
     "output_type": "stream",
     "text": [
      "[4 2 3 ... 2 2 2]\n",
      "The time of execution of above program is : 76.00665092468262 ms\n"
     ]
    }
   ],
   "source": [
    "from sklearn.model_selection import train_test_split\n",
    "from sklearn.neighbors import KNeighborsClassifier\n",
    "\n",
    "# Import time module\n",
    "import time\n",
    " \n",
    "# record start time\n",
    "start = time.time()\n",
    "\n",
    "XR = accelsR['x'].tolist()\n",
    "YR = accelsR['y'].tolist()\n",
    "ZR = accelsR['z'].tolist()\n",
    "\n",
    "evidenceR = list()\n",
    "\n",
    "for i in range(len(XR)):\n",
    "    item = list()\n",
    "    item.append(XR[i])\n",
    "    item.append(YR[i])\n",
    "    item.append(ZR[i])\n",
    "    evidenceR.append(item)\n",
    "\n",
    "# Train model with all training data now (no need to split) and make predictions\n",
    "# The parameter n_neighbors is the number of neighbors that are taken into account \n",
    "modelR = KNeighborsClassifier(n_neighbors=7)\n",
    "modelR.fit(evidence, labels)\n",
    "predictionsR = model.predict(evidenceR)\n",
    "\n",
    "# Pring real predictions\n",
    "print(predictionsR)\n",
    "\n",
    "# record end time\n",
    "end = time.time()\n",
    " \n",
    "# print the difference between start\n",
    "# and end time in milli. secs\n",
    "print(\"The time of execution of above program is :\",\n",
    "      (end-start) * 10**3, \"ms\")"
   ]
  },
  {
   "cell_type": "code",
   "execution_count": null,
   "metadata": {},
   "outputs": [],
   "source": []
  }
 ],
 "metadata": {
  "kernelspec": {
   "display_name": "Python 3",
   "language": "python",
   "name": "python3"
  },
  "language_info": {
   "codemirror_mode": {
    "name": "ipython",
    "version": 3
   },
   "file_extension": ".py",
   "mimetype": "text/x-python",
   "name": "python",
   "nbconvert_exporter": "python",
   "pygments_lexer": "ipython3",
   "version": "3.7.4"
  }
 },
 "nbformat": 4,
 "nbformat_minor": 2
}
